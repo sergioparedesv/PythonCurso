{
 "cells": [
  {
   "cell_type": "markdown",
   "metadata": {},
   "source": [
    "# HOJA DE EJERCICIOS PYTHON"
   ]
  },
  {
   "cell_type": "markdown",
   "metadata": {},
   "source": [
    "### Practica: "
   ]
  },
  {
   "cell_type": "markdown",
   "metadata": {},
   "source": [
    "#### 1.Guarde en las siguientes variable su nombre, apellido, edad, luego concatene su nombre y apellido para multiplicarlos por su edad"
   ]
  },
  {
   "cell_type": "code",
   "execution_count": null,
   "metadata": {
    "collapsed": false
   },
   "outputs": [],
   "source": []
  },
  {
   "cell_type": "markdown",
   "metadata": {},
   "source": [
    "#### 2.Cree una lista con su nombre, apellido y edad, e imprimila.\n"
   ]
  },
  {
   "cell_type": "code",
   "execution_count": null,
   "metadata": {
    "collapsed": false
   },
   "outputs": [],
   "source": []
  },
  {
   "cell_type": "markdown",
   "metadata": {},
   "source": [
    "Agreguele a esa lista su segundo apellido y documento"
   ]
  },
  {
   "cell_type": "code",
   "execution_count": null,
   "metadata": {
    "collapsed": false
   },
   "outputs": [],
   "source": []
  },
  {
   "cell_type": "markdown",
   "metadata": {},
   "source": [
    "Digame cual posición del vector quedo su cedula"
   ]
  },
  {
   "cell_type": "code",
   "execution_count": null,
   "metadata": {
    "collapsed": false
   },
   "outputs": [],
   "source": []
  },
  {
   "cell_type": "markdown",
   "metadata": {},
   "source": [
    "##### Qué cree que pasara si intentamos ordenar la la (lista) con sorted(lista)?"
   ]
  },
  {
   "cell_type": "code",
   "execution_count": null,
   "metadata": {
    "collapsed": true
   },
   "outputs": [],
   "source": [
    "    "
   ]
  },
  {
   "cell_type": "markdown",
   "metadata": {
    "collapsed": true
   },
   "source": [
    "Cree la lista a,b,c, la lista 1,2,3, la lista con los números PI, E, Fi y agreguelas todas a superLista"
   ]
  },
  {
   "cell_type": "code",
   "execution_count": null,
   "metadata": {
    "collapsed": false
   },
   "outputs": [],
   "source": []
  },
  {
   "cell_type": "markdown",
   "metadata": {},
   "source": [
    "#### Ingreso de Datos"
   ]
  },
  {
   "cell_type": "markdown",
   "metadata": {},
   "source": [
    "#### 3.Haga una aplicación en el que ingrese su nombre, edad y calcule el año en que nacio "
   ]
  },
  {
   "cell_type": "code",
   "execution_count": null,
   "metadata": {
    "collapsed": false
   },
   "outputs": [],
   "source": []
  },
  {
   "cell_type": "markdown",
   "metadata": {
    "collapsed": true
   },
   "source": [
    "#### 4. Resuelva la siguiente practica de condicionales\n"
   ]
  },
  {
   "cell_type": "markdown",
   "metadata": {},
   "source": [
    "Haga un programa que determine si dos palabras son diferentes\n"
   ]
  },
  {
   "cell_type": "code",
   "execution_count": null,
   "metadata": {
    "collapsed": false
   },
   "outputs": [],
   "source": []
  },
  {
   "cell_type": "markdown",
   "metadata": {},
   "source": [
    "Utilice valores booleanos para determinar si es cierto que usted es hombre"
   ]
  },
  {
   "cell_type": "code",
   "execution_count": null,
   "metadata": {
    "collapsed": false
   },
   "outputs": [],
   "source": []
  },
  {
   "cell_type": "markdown",
   "metadata": {},
   "source": [
    "Haga un programa que determine si x es igual a y, si x es mayor que y o si y es mayor que x, ademas que nos diga la diferencia entre el mayor y el menor"
   ]
  },
  {
   "cell_type": "code",
   "execution_count": null,
   "metadata": {
    "collapsed": false
   },
   "outputs": [],
   "source": [
    "\n",
    "        \n",
    "    "
   ]
  },
  {
   "cell_type": "markdown",
   "metadata": {},
   "source": [
    "Practica de Switch o ELIF, \n",
    "\n",
    "1.haga un programa qué primero capture un tipo de poligono (Triangulo, Cuadrado, Circulo)\n",
    "2.Proceda a capturar Radio, Perimetro, Altura, Base, o los datos necesarios\n",
    "3.Calcule su área y Petrimetro."
   ]
  },
  {
   "cell_type": "code",
   "execution_count": null,
   "metadata": {
    "collapsed": true
   },
   "outputs": [],
   "source": []
  },
  {
   "cell_type": "markdown",
   "metadata": {},
   "source": [
    "#### 5.Practica de Ciclos WHILE"
   ]
  },
  {
   "cell_type": "markdown",
   "metadata": {
    "collapsed": true
   },
   "source": [
    "Utilice el ciclo while, para los primeros 50 números, qué guarde los números pares en un vector y los números impares en otros\n"
   ]
  },
  {
   "cell_type": "code",
   "execution_count": null,
   "metadata": {
    "collapsed": false
   },
   "outputs": [],
   "source": [
    "\n",
    " "
   ]
  },
  {
   "cell_type": "markdown",
   "metadata": {
    "collapsed": true
   },
   "source": [
    "Pratica ciclo, hacer un programa que capture una cadena y encuentre las primeras letras de una palabra antes de llegar a una vocal\n"
   ]
  },
  {
   "cell_type": "code",
   "execution_count": null,
   "metadata": {
    "collapsed": false
   },
   "outputs": [],
   "source": []
  },
  {
   "cell_type": "markdown",
   "metadata": {},
   "source": [
    "#### 6.Practicas FOR"
   ]
  },
  {
   "cell_type": "markdown",
   "metadata": {},
   "source": [
    "Dada una lista con diferentes palabras, cree un ciclo for que nos diga cuantas letras tiene cada palabra."
   ]
  },
  {
   "cell_type": "code",
   "execution_count": null,
   "metadata": {
    "collapsed": false
   },
   "outputs": [],
   "source": []
  },
  {
   "cell_type": "markdown",
   "metadata": {},
   "source": [
    "Dada una lista, cree un ciclo for que nos muestre el indice con el item contenido"
   ]
  },
  {
   "cell_type": "code",
   "execution_count": null,
   "metadata": {
    "collapsed": false
   },
   "outputs": [],
   "source": [
    "m = [1,2,3,4]\n",
    "for i in range (1,11):\n",
    "    a = m[i]*i\n",
    "    print (m[i],\"x\", i,\"=\", a)"
   ]
  },
  {
   "cell_type": "markdown",
   "metadata": {
    "collapsed": true
   },
   "source": [
    "Cree una tabla de multiplicar"
   ]
  },
  {
   "cell_type": "code",
   "execution_count": null,
   "metadata": {
    "collapsed": false
   },
   "outputs": [],
   "source": [
    "for i in range(1,11):\n",
    "    for j in range(1,11):\n",
    "        print (i,\"x\",j,\"=\",i*j)     "
   ]
  },
  {
   "cell_type": "code",
   "execution_count": null,
   "metadata": {
    "collapsed": false
   },
   "outputs": [],
   "source": [
    "a, b, c = int(input(\"ingrese a : \")), int(input(\"ingrese b : \")), int(input(\"ingrese c : \"))\n",
    "lista = [a,b,c]\n",
    "print (\"El número mayor es : \",max(lista))"
   ]
  },
  {
   "cell_type": "code",
   "execution_count": null,
   "metadata": {
    "collapsed": false
   },
   "outputs": [],
   "source": [
    "suma= 0\n",
    "for i in range (1,11):\n",
    "    suma=suma+i\n",
    "print(suma)\n",
    "\n",
    "lista = [1,2,3,4,5,6,7,8,9,10]\n",
    "print (sum(lista))"
   ]
  },
  {
   "cell_type": "code",
   "execution_count": null,
   "metadata": {
    "collapsed": false
   },
   "outputs": [],
   "source": []
  },
  {
   "cell_type": "markdown",
   "metadata": {},
   "source": [
    "#### Practicas de Clicos y Secuencias"
   ]
  },
  {
   "cell_type": "markdown",
   "metadata": {},
   "source": [
    "Haga un programa que ingrese un número e imprima todos los números enteros entre 0 y el número ingresado.\n"
   ]
  },
  {
   "cell_type": "code",
   "execution_count": null,
   "metadata": {
    "collapsed": true
   },
   "outputs": [],
   "source": []
  },
  {
   "cell_type": "markdown",
   "metadata": {},
   "source": [
    "Haga un programa que me imprima todos los números pares, hasta 100"
   ]
  },
  {
   "cell_type": "code",
   "execution_count": null,
   "metadata": {
    "collapsed": true
   },
   "outputs": [],
   "source": []
  },
  {
   "cell_type": "markdown",
   "metadata": {},
   "source": [
    "Haga un programa que me imprima todos los números primos hasta 100"
   ]
  },
  {
   "cell_type": "code",
   "execution_count": null,
   "metadata": {
    "collapsed": true
   },
   "outputs": [],
   "source": []
  },
  {
   "cell_type": "markdown",
   "metadata": {},
   "source": [
    "La estatua de la libertad mide 46 metros, Calcule la Progresión geométrica hasta reducir la estatua a un tamaño inferior de un Metro e imprima cuantas escaladas se utilizaron para llegar a eso"
   ]
  },
  {
   "cell_type": "code",
   "execution_count": null,
   "metadata": {
    "collapsed": true
   },
   "outputs": [],
   "source": []
  },
  {
   "cell_type": "markdown",
   "metadata": {},
   "source": [
    "Haga un programa que imprima la escala logaritmica de un $X$ hasta 10"
   ]
  },
  {
   "cell_type": "code",
   "execution_count": null,
   "metadata": {
    "collapsed": true
   },
   "outputs": [],
   "source": []
  },
  {
   "cell_type": "markdown",
   "metadata": {},
   "source": [
    "[![IMAGE ALT TEXT](http://img.youtube.com/vi/c7AjlsachtA/0.jpg)](http://www.youtube.com/watch?v=c7AjlsachtA \"Fibonacci en Python\")"
   ]
  },
  {
   "cell_type": "markdown",
   "metadata": {},
   "source": [
    "# Ejercicios con diagramas de flujo"
   ]
  },
  {
   "cell_type": "markdown",
   "metadata": {
    "collapsed": true
   },
   "source": [
    "<img src=\"http://manualidades.photos/ejemplosorg/uploads/2015/03/EjemplosDeDiagramasDeFlujo.png\">"
   ]
  },
  {
   "cell_type": "markdown",
   "metadata": {
    "collapsed": true
   },
   "source": [
    "<img src=\"img/02.jpg\">"
   ]
  },
  {
   "cell_type": "code",
   "execution_count": null,
   "metadata": {
    "collapsed": true
   },
   "outputs": [],
   "source": []
  },
  {
   "cell_type": "markdown",
   "metadata": {
    "collapsed": true
   },
   "source": [
    "<img src=\"img/03.jpg\">"
   ]
  },
  {
   "cell_type": "code",
   "execution_count": null,
   "metadata": {
    "collapsed": true
   },
   "outputs": [],
   "source": []
  },
  {
   "cell_type": "markdown",
   "metadata": {
    "collapsed": true
   },
   "source": [
    "<img src=\"img/04.jpg\">"
   ]
  },
  {
   "cell_type": "code",
   "execution_count": null,
   "metadata": {
    "collapsed": true
   },
   "outputs": [],
   "source": []
  },
  {
   "cell_type": "markdown",
   "metadata": {},
   "source": [
    "<img src=\"img/05.jpg\">"
   ]
  },
  {
   "cell_type": "code",
   "execution_count": null,
   "metadata": {
    "collapsed": false
   },
   "outputs": [],
   "source": [
    "a, b = int(input(\"Cateto1 :\")), int(input(\"Cateto2 :\"))\n",
    "hipotenusa = ((a**2)+(b**2))**(1/2)\n",
    "hipotenusa"
   ]
  },
  {
   "cell_type": "markdown",
   "metadata": {},
   "source": [
    "<img src=\"img/06.jpg\">"
   ]
  },
  {
   "cell_type": "code",
   "execution_count": null,
   "metadata": {
    "collapsed": false
   },
   "outputs": [],
   "source": [
    "import numpy as np\n",
    "h = int(input(\"Altura :\"))\n",
    "r = int(input(\"Radio  :\"))\n",
    "vol = np.pi*(r**2)*h\n",
    "area = 2*np.pi*r*h\n",
    "print(area, vol)"
   ]
  },
  {
   "cell_type": "markdown",
   "metadata": {},
   "source": [
    "<img src=\"img/07.jpg\">"
   ]
  },
  {
   "cell_type": "code",
   "execution_count": null,
   "metadata": {
    "collapsed": true
   },
   "outputs": [],
   "source": [
    "nota = int(input(\"Escriba su calificación :\"))\n",
    "if (nota >= 20) and (nota <=19:)\n",
    "    return \"a\""
   ]
  },
  {
   "cell_type": "code",
   "execution_count": null,
   "metadata": {
    "collapsed": true
   },
   "outputs": [],
   "source": []
  },
  {
   "cell_type": "markdown",
   "metadata": {},
   "source": [
    "<img src=\"img/08.jpg\">"
   ]
  },
  {
   "cell_type": "code",
   "execution_count": null,
   "metadata": {
    "collapsed": true
   },
   "outputs": [],
   "source": []
  },
  {
   "cell_type": "markdown",
   "metadata": {},
   "source": [
    "<img src=\"img/10.jpg\">"
   ]
  },
  {
   "cell_type": "code",
   "execution_count": null,
   "metadata": {
    "collapsed": false
   },
   "outputs": [],
   "source": [
    "n = int(input(\"Ingrese el número\"))\n",
    "i=1\n",
    "prueba=0\n",
    "while i <= n:\n",
    "    temp = n%i\n",
    "    if temp == 0:\n",
    "        prueba=prueba+1\n",
    "    i=i+1\n",
    "if prueba == 2:\n",
    "    print(n,\"Es primo\")\n",
    "else:\n",
    "    print(n,\"No es primo\")"
   ]
  },
  {
   "cell_type": "code",
   "execution_count": null,
   "metadata": {
    "collapsed": true
   },
   "outputs": [],
   "source": []
  },
  {
   "cell_type": "markdown",
   "metadata": {},
   "source": [
    "<img src=\"img/11.jpg\">"
   ]
  },
  {
   "cell_type": "code",
   "execution_count": null,
   "metadata": {
    "collapsed": false
   },
   "outputs": [],
   "source": [
    "nota = int(input(\"Ingrese la nota : \"))  #Ingresas la nota inicial\n",
    "suma = 0  #Esta variable llevara la cuenta de la suma\n",
    "contador = 0  #Esta variable llevara las veces que hicimos la suma\n",
    "while nota != 0: #Mientras nota sea diferente a 0, hagamos la operación, pero si nota es igual a 0, rompemos el ciclo\n",
    "    suma=suma+nota #Lleva el acumulado de las variables notas\n",
    "    contador=contador+1 #Aumentamos en 1,cada vez que ejecutamos una suma.\n",
    "    nota = int(input(\"Ingrese la nota : \"))  #Ingresa denuevo la nota\n",
    "promedio= suma/contador #saca el promedio, dividiendo la suma en el número de veces.\n",
    "print(\"Su promedio es\", promedio)"
   ]
  },
  {
   "cell_type": "code",
   "execution_count": null,
   "metadata": {
    "collapsed": false
   },
   "outputs": [],
   "source": [
    "nota = int(input(\"Ingrese la nota : \"))  #Ingresas la nota inicial\n",
    "suma = 0  #Esta variable llevara la cuenta de la suma\n",
    "contador = 0  #Esta variable llevara las veces que hicimos la suma\n",
    "while nota >= 0: #Mientras nota sea diferente a 0, hagamos la operación, pero si nota es igual a 0, rompemos el ciclo\n",
    "    suma=suma+nota #Lleva el acumulado de las variables notas\n",
    "    contador=contador+1 #Aumentamos en 1,cada vez que ejecutamos una suma.\n",
    "    quiere_salir= input(\"Quieres salir, escribe 'SI'\")\n",
    "    if quiere_salir == 'SI':\n",
    "        break\n",
    "    nota = int(input(\"Ingrese la nota : \"))  #Ingresa denuevo la nota\n",
    "promedio= suma/contador #saca el promedio, dividiendo la suma en el número de veces.\n",
    "print(\"Su promedio es\", promedio)"
   ]
  },
  {
   "cell_type": "code",
   "execution_count": null,
   "metadata": {
    "collapsed": true
   },
   "outputs": [],
   "source": []
  },
  {
   "cell_type": "markdown",
   "metadata": {},
   "source": [
    "<img src=\"img/12.jpg\">"
   ]
  },
  {
   "cell_type": "code",
   "execution_count": null,
   "metadata": {
    "collapsed": false
   },
   "outputs": [],
   "source": [
    "obreros=5\n",
    "horas_trabajo=0\n",
    "total_horas = 0\n",
    "while obreros > 0:\n",
    "    numero_horas = int(input(\"Ingrese el número de horas :\"))\n",
    "    total_horas = total_horas+numero_horas\n",
    "    obreros=obreros-1\n",
    "print (total_horas*30000)"
   ]
  },
  {
   "cell_type": "code",
   "execution_count": null,
   "metadata": {
    "collapsed": true
   },
   "outputs": [],
   "source": []
  },
  {
   "cell_type": "markdown",
   "metadata": {},
   "source": [
    "<img src=\"img/13.jpg\">"
   ]
  },
  {
   "cell_type": "code",
   "execution_count": null,
   "metadata": {
    "collapsed": false
   },
   "outputs": [],
   "source": [
    "suma = 0\n",
    "precio = int(input(\"Ingrese el precio del producto, para terminar escriba 0 :\"))\n",
    "while precio != 0:\n",
    "    suma= suma+precio\n",
    "    precio = int(input(\"Ingrese el precio del producto, para terminar escriba 0 :\"))\n",
    "print(\"El precio de su mercado es : \", suma*0.16)"
   ]
  },
  {
   "cell_type": "code",
   "execution_count": null,
   "metadata": {
    "collapsed": false
   },
   "outputs": [
    {
     "name": "stdout",
     "output_type": "stream",
     "text": [
      "he venido a negociar\n",
      "Te escuchono\n",
      "Te escucholo mato\n",
      "he venido a negociar\n"
     ]
    }
   ],
   "source": [
    "DrStrange = \"he venido a negociar\"\n",
    "print (DrStrange)\n",
    "RespuestaDormammu = input(\"Dile lo que quieres\")\n",
    "while RespuestaDormammu != \"Te escucho\":\n",
    "    print = (RespuestaDormammu)\n",
    "    RespuestaDormammu = input(\"Te escucho\")\n",
    "    print (DrStrange)\n",
    "    "
   ]
  },
  {
   "cell_type": "code",
   "execution_count": null,
   "metadata": {
    "collapsed": true
   },
   "outputs": [],
   "source": []
  },
  {
   "cell_type": "markdown",
   "metadata": {},
   "source": [
    "<img src=\"img/14.jpg\">"
   ]
  },
  {
   "cell_type": "code",
   "execution_count": null,
   "metadata": {
    "collapsed": true
   },
   "outputs": [],
   "source": []
  },
  {
   "cell_type": "code",
   "execution_count": null,
   "metadata": {
    "collapsed": true
   },
   "outputs": [],
   "source": []
  },
  {
   "cell_type": "markdown",
   "metadata": {},
   "source": [
    "<img src=\"img/15.jpg\">"
   ]
  },
  {
   "cell_type": "code",
   "execution_count": null,
   "metadata": {
    "collapsed": true
   },
   "outputs": [],
   "source": []
  },
  {
   "cell_type": "markdown",
   "metadata": {},
   "source": [
    "# Ejercicios: "
   ]
  },
  {
   "cell_type": "markdown",
   "metadata": {},
   "source": [
    "#### 1. Calcule el número áureo $\\phi=\\frac{1+\\sqrt{5}}{2}$, considere $\\sqrt{5}\\approx2.23$:"
   ]
  },
  {
   "cell_type": "code",
   "execution_count": null,
   "metadata": {
    "collapsed": true
   },
   "outputs": [],
   "source": []
  },
  {
   "cell_type": "markdown",
   "metadata": {},
   "source": [
    "#### 2. Defina dos variables, `base` y `altura`, con algún valor. Cálcule e imprima el área de un triángulo:"
   ]
  },
  {
   "cell_type": "code",
   "execution_count": null,
   "metadata": {
    "collapsed": true
   },
   "outputs": [],
   "source": []
  },
  {
   "cell_type": "markdown",
   "metadata": {},
   "source": [
    "#### 3. Redefina la variable `altura` como string y realice nuevamente el cálculo del área. ¿Qué sucede? ¿Por qué?"
   ]
  },
  {
   "cell_type": "code",
   "execution_count": null,
   "metadata": {
    "collapsed": true
   },
   "outputs": [],
   "source": []
  },
  {
   "cell_type": "markdown",
   "metadata": {},
   "source": [
    "#### 4. Defina una lista y una tupla con cuatro números en las entradas. Actualice la segunda entrada de ambas con la palabra 'Python'. ¿Qué sucede?"
   ]
  },
  {
   "cell_type": "code",
   "execution_count": null,
   "metadata": {
    "collapsed": true
   },
   "outputs": [],
   "source": []
  },
  {
   "cell_type": "markdown",
   "metadata": {},
   "source": [
    "#### 5. Un número palíndromo es un número que se lee igual en ambos sentidos. El mayor número palíndromo formado por el producto de dos números de 2 dígitos es 9009 = 91 × 99. Encuentre el mayor número palíndromo formado por el producto de dos números de 3 dígitos."
   ]
  },
  {
   "cell_type": "code",
   "execution_count": null,
   "metadata": {
    "collapsed": true
   },
   "outputs": [],
   "source": []
  },
  {
   "cell_type": "code",
   "execution_count": null,
   "metadata": {
    "collapsed": true
   },
   "outputs": [],
   "source": []
  },
  {
   "cell_type": "markdown",
   "metadata": {},
   "source": [
    "#### 6.Calcule la raíz cuadrada, cubica, cuarta, quinta de los siguientes números 4,27,16,3125"
   ]
  },
  {
   "cell_type": "code",
   "execution_count": null,
   "metadata": {
    "collapsed": true
   },
   "outputs": [],
   "source": []
  },
  {
   "cell_type": "code",
   "execution_count": null,
   "metadata": {
    "collapsed": true
   },
   "outputs": [],
   "source": []
  },
  {
   "cell_type": "code",
   "execution_count": null,
   "metadata": {
    "collapsed": true
   },
   "outputs": [],
   "source": []
  },
  {
   "cell_type": "code",
   "execution_count": null,
   "metadata": {
    "collapsed": true
   },
   "outputs": [],
   "source": []
  },
  {
   "cell_type": "markdown",
   "metadata": {},
   "source": [
    "#### 7. Cree un programa donde ingresando los valores de a, b, c, pueda resolver una ecuación de segundo grado, puede utilizar la formula cuadratica\n",
    "\n",
    "$x = \\frac{-b \\pm \\sqrt {b^2-4ac}}{2a}$"
   ]
  },
  {
   "cell_type": "code",
   "execution_count": null,
   "metadata": {
    "collapsed": true
   },
   "outputs": [],
   "source": []
  },
  {
   "cell_type": "markdown",
   "metadata": {},
   "source": [
    "#### 8.Cree un programa que determine el estado del agua(Solido, liquido o gaseoso) segun la temperatura, solid < 0 grados, liquido entre =>0 a 100 grados <=, y gaseoso si es > de 100 grados"
   ]
  },
  {
   "cell_type": "code",
   "execution_count": null,
   "metadata": {
    "collapsed": true
   },
   "outputs": [],
   "source": []
  },
  {
   "cell_type": "markdown",
   "metadata": {},
   "source": [
    "#### 9.Trabajo con vectores y condicionales \n",
    "\n",
    "1. Guarde en otro vector(vectorPar) los números pares del vector principal\n",
    "\n",
    "2. Ordene el (vectorPar) de menor a mayor\n",
    "\n",
    "3. Sume todos los elementos del (vectorPar)\n",
    "\n",
    "4. Extraiga del(vectorPar) el maximo número\n",
    "\n",
    "5. Saque la diferencia entre el maximo número de (vectorPar) y la suma de sus elementos"
   ]
  },
  {
   "cell_type": "code",
   "execution_count": null,
   "metadata": {
    "collapsed": false
   },
   "outputs": [],
   "source": [
    "#Ejecute\n",
    "import random #traemos la función random\n",
    "vector = [] #Creamos un vector\n",
    "for i in range (20): #Creamos un bucle de 10 elementos\n",
    "    vector.append(random.randrange(1,5)) #Agregamos al vector, un número aleatorio\n",
    "print (vector) #imprimimos el vector"
   ]
  },
  {
   "cell_type": "code",
   "execution_count": null,
   "metadata": {
    "collapsed": true
   },
   "outputs": [],
   "source": []
  },
  {
   "cell_type": "code",
   "execution_count": null,
   "metadata": {
    "collapsed": true
   },
   "outputs": [],
   "source": []
  },
  {
   "cell_type": "code",
   "execution_count": null,
   "metadata": {
    "collapsed": true
   },
   "outputs": [],
   "source": []
  },
  {
   "cell_type": "code",
   "execution_count": null,
   "metadata": {
    "collapsed": true
   },
   "outputs": [],
   "source": []
  },
  {
   "cell_type": "code",
   "execution_count": null,
   "metadata": {
    "collapsed": true
   },
   "outputs": [],
   "source": []
  },
  {
   "cell_type": "markdown",
   "metadata": {},
   "source": [
    "#### 10. Cree una programa que nos imprima los primeros 50 números de la Sucesión de Fibonacci\n",
    "\n",
    ">>0,1,1,2,3,5,8,13,21,34,55,89,144,233,377,610,987,1597"
   ]
  },
  {
   "cell_type": "code",
   "execution_count": null,
   "metadata": {
    "collapsed": true
   },
   "outputs": [],
   "source": []
  },
  {
   "cell_type": "markdown",
   "metadata": {},
   "source": [
    "#### 11 Calcule la razón entre $F_{n}$ y $F_{n-1}$, i.e. $\\frac{F_{n}}{F_{n-1}}$, para todos los Fibonacci hallados. "
   ]
  },
  {
   "cell_type": "code",
   "execution_count": null,
   "metadata": {
    "collapsed": true
   },
   "outputs": [],
   "source": []
  },
  {
   "cell_type": "markdown",
   "metadata": {},
   "source": [
    "#### 12. Haga un programa que calcule la estación del año, que ademas repita la captura si alguien se equivoca en ingresar los datos"
   ]
  },
  {
   "cell_type": "code",
   "execution_count": null,
   "metadata": {
    "collapsed": true
   },
   "outputs": [],
   "source": []
  }
 ],
 "metadata": {
  "anaconda-cloud": {},
  "kernelspec": {
   "display_name": "Python [Root]",
   "language": "python",
   "name": "Python [Root]"
  },
  "language_info": {
   "codemirror_mode": {
    "name": "ipython",
    "version": 3
   },
   "file_extension": ".py",
   "mimetype": "text/x-python",
   "name": "python",
   "nbconvert_exporter": "python",
   "pygments_lexer": "ipython3",
   "version": "3.5.2"
  }
 },
 "nbformat": 4,
 "nbformat_minor": 0
}
