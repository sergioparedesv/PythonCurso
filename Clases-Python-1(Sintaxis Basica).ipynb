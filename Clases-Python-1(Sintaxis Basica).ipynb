{
 "cells": [
  {
   "cell_type": "markdown",
   "metadata": {},
   "source": [
    "## Python Curso 1.1"
   ]
  },
  {
   "cell_type": "markdown",
   "metadata": {},
   "source": [
    "### Aprendamos la sintaxis basica de Python\n",
    "Ejemplo:\n",
    "\n",
    "print (\"Hola Mundo\")"
   ]
  },
  {
   "cell_type": "code",
   "execution_count": null,
   "metadata": {
    "collapsed": false,
    "scrolled": true
   },
   "outputs": [],
   "source": []
  },
  {
   "cell_type": "markdown",
   "metadata": {
    "collapsed": false
   },
   "source": [
    "Así de simple tambien podemos hacer operaciones, solo escriba 2+2 por ejemplo y ejecute el codigo."
   ]
  },
  {
   "cell_type": "code",
   "execution_count": 1,
   "metadata": {
    "collapsed": false
   },
   "outputs": [
    {
     "data": {
      "text/plain": [
       "7"
      ]
     },
     "execution_count": 1,
     "metadata": {},
     "output_type": "execute_result"
    }
   ],
   "source": [
    "3+4"
   ]
  },
  {
   "cell_type": "markdown",
   "metadata": {},
   "source": [
    "Muy bien, ahora calcule la hipotenusa de un triangulo con Altura de 4 y base de 3, mediante código"
   ]
  },
  {
   "cell_type": "code",
   "execution_count": null,
   "metadata": {
    "collapsed": false
   },
   "outputs": [],
   "source": []
  },
  {
   "cell_type": "markdown",
   "metadata": {},
   "source": [
    "¿Complicado sacar potencias y raices? Existen otras formas, como pow(4,2), adelante prueben"
   ]
  },
  {
   "cell_type": "code",
   "execution_count": null,
   "metadata": {
    "collapsed": false
   },
   "outputs": [],
   "source": []
  },
  {
   "cell_type": "markdown",
   "metadata": {},
   "source": [
    "Ahora calcule la hipotenusa del mismo triangulo con el comando pow"
   ]
  },
  {
   "cell_type": "code",
   "execution_count": null,
   "metadata": {
    "collapsed": false
   },
   "outputs": [],
   "source": []
  },
  {
   "cell_type": "markdown",
   "metadata": {},
   "source": [
    "#### Comandos para consultar funciones basicas de python"
   ]
  },
  {
   "cell_type": "code",
   "execution_count": null,
   "metadata": {
    "collapsed": false
   },
   "outputs": [],
   "source": [
    "dir(__builtins__)"
   ]
  },
  {
   "cell_type": "markdown",
   "metadata": {
    "collapsed": false
   },
   "source": [
    "help(\"ingrese acá la función\")"
   ]
  },
  {
   "cell_type": "code",
   "execution_count": null,
   "metadata": {
    "collapsed": false
   },
   "outputs": [],
   "source": [
    "help(input)"
   ]
  },
  {
   "cell_type": "code",
   "execution_count": null,
   "metadata": {
    "collapsed": false
   },
   "outputs": [],
   "source": [
    "help(pow)"
   ]
  },
  {
   "cell_type": "markdown",
   "metadata": {},
   "source": [
    "Bien, Python es un lenguaje de programación de alto nivel(Que se puede utilizar para desarrollar cualquier tipo de aplicación) y  fuertemente tipado(no se permiten violaciones de los tipos de datos, es decir, dado el valor de una variable de un tipo concreto, no se puede usar como si fuera de otro tipo distinto a menos que se haga una conversión), "
   ]
  },
  {
   "cell_type": "markdown",
   "metadata": {},
   "source": [
    "### Biografias\n",
    "\n",
    "http://www.python.org.ar/aprendiendo-python/\n",
    "\n",
    "http://librosweb.es/libro/python/\n",
    "\n",
    "https://www.codecademy.com/es/tracks/python-traduccion-al-espanol-america-latina-clone-1\n",
    "\n",
    "http://www.scipy-lectures.org/\n",
    "\n",
    "https://docs.python.org\n"
   ]
  },
  {
   "cell_type": "markdown",
   "metadata": {},
   "source": [
    "# VARIABLES"
   ]
  },
  {
   "cell_type": "markdown",
   "metadata": {},
   "source": [
    "#### Nombres de las variables y palabras resevadas"
   ]
  },
  {
   "cell_type": "markdown",
   "metadata": {},
   "source": [
    "Los nombres de las variables por conveción tienen nombres descriptivos, estas variables siempre deben empezar por una letra, por ejemplo si queremos crear una variable que almacene el nombre de usuario, y documento de una personaje, tenemos estas dos convenciones.\n",
    "\n",
    "Ejemplos\n",
    "\n",
    ">nombre_de_usuario\n",
    "\n",
    ">nombre_usuario\n",
    "\n",
    ">nombreDeUduario\n",
    "\n",
    ">nombreUsuario\n",
    "\n",
    "Para definir los lados de un triangulo pueden ser\n",
    "\n",
    ">cateto1\n",
    "\n",
    ">cateto2\n",
    "\n",
    ">cateto3\n",
    "\n",
    "\n",
    "PALABRAS RESERVADAS\n",
    "\n",
    "####Como ya sabes en el sistema existen palabras reservadas, estas palabras no se pueden utilizar como nombres de variables, bueno si se puede, pero es una horrible practica hacerlo.\n",
    "\n",
    "Ejemplo: (pow, max, sum, help, input)\n",
    "\n"
   ]
  },
  {
   "cell_type": "code",
   "execution_count": null,
   "metadata": {
    "collapsed": true
   },
   "outputs": [],
   "source": [
    "palabras_reservadas=[and,continue,else \n",
    "for \n",
    "import \n",
    "not \n",
    "raise\n",
    "assert \n",
    "def \n",
    "except \n",
    "from \n",
    "in \n",
    "or \n",
    "return\n",
    "break \n",
    "del \n",
    "exec \n",
    "global \n",
    "is \n",
    "pass \n",
    "try\n",
    "class \n",
    "elif \n",
    "finally \n",
    "if \n",
    "lambda \n",
    "print ]"
   ]
  },
  {
   "cell_type": "code",
   "execution_count": null,
   "metadata": {
    "collapsed": true
   },
   "outputs": [],
   "source": []
  },
  {
   "cell_type": "markdown",
   "metadata": {},
   "source": [
    "#### Intente utilizar una palabra reservada como variable"
   ]
  },
  {
   "cell_type": "code",
   "execution_count": null,
   "metadata": {
    "collapsed": false
   },
   "outputs": [],
   "source": []
  },
  {
   "cell_type": "markdown",
   "metadata": {},
   "source": [
    "Ahora intente empezar la variable con algun simbolo"
   ]
  },
  {
   "cell_type": "code",
   "execution_count": null,
   "metadata": {
    "collapsed": false
   },
   "outputs": [],
   "source": []
  },
  {
   "cell_type": "markdown",
   "metadata": {},
   "source": [
    "Intente iniciar la variable con un número"
   ]
  },
  {
   "cell_type": "code",
   "execution_count": null,
   "metadata": {
    "collapsed": false
   },
   "outputs": [],
   "source": []
  },
  {
   "cell_type": "markdown",
   "metadata": {},
   "source": [
    "Intente iniciar la variable con mayusculas"
   ]
  },
  {
   "cell_type": "code",
   "execution_count": null,
   "metadata": {
    "collapsed": false
   },
   "outputs": [],
   "source": []
  },
  {
   "cell_type": "markdown",
   "metadata": {},
   "source": [
    "Otras de estas palabras reservadas puede ser (type), para saber los tipos de datos."
   ]
  },
  {
   "cell_type": "code",
   "execution_count": null,
   "metadata": {
    "collapsed": false
   },
   "outputs": [],
   "source": [
    "type(\"Hola, mundo\")"
   ]
  },
  {
   "cell_type": "code",
   "execution_count": null,
   "metadata": {
    "collapsed": false
   },
   "outputs": [],
   "source": [
    "type(4)"
   ]
  },
  {
   "cell_type": "code",
   "execution_count": null,
   "metadata": {
    "collapsed": false
   },
   "outputs": [],
   "source": [
    "type(3.4)"
   ]
  },
  {
   "cell_type": "markdown",
   "metadata": {},
   "source": [
    "#### Asignale el valor a una variable y obten el tipo de dato de la variable"
   ]
  },
  {
   "cell_type": "code",
   "execution_count": null,
   "metadata": {
    "collapsed": true
   },
   "outputs": [],
   "source": []
  },
  {
   "cell_type": "markdown",
   "metadata": {},
   "source": [
    "¿Pero que son tipos de datos?"
   ]
  },
  {
   "cell_type": "raw",
   "metadata": {},
   "source": [
    "# TIPOS DE DATOS"
   ]
  },
  {
   "cell_type": "markdown",
   "metadata": {},
   "source": [
    "Ahora vamos  a utilizar a Python para entender los tipos de datos"
   ]
  },
  {
   "cell_type": "markdown",
   "metadata": {},
   "source": [
    "| Tipo      | Clase           | Notas                                                   | Ejemplo                         |\n",
    "|-----------|-----------------|---------------------------------------------------------|---------------------------------|\n",
    "| str       | Cadena          | Inmutable                                               | 'Cadena'                        |\n",
    "| unicode   | Cadena          | Versión Unicode de str                                  | u'Cadena'                       |\n",
    "| list      | Secuencia       | Mutable, puede contener objetos de diversos tipos       | [4.0, 'Cadena', True]           |\n",
    "| tuple     | Secuencia       | Inmutable, puede contener objetos de diversos tipos     | (4.0, 'Cadena', True)           |\n",
    "| set       | Conjunto        | Mutable, sin orden, no contiene duplicados              | set([4.0, 'Cadena', True])      |\n",
    "| frozenset | Conjunto        | Inmutable, sin orden, no contiene duplicados            | frozenset([4.0,'Cadena', True]) |\n",
    "| dict      | Mapping         | Grupo de pares clave:valor                              | {'key1': 1.0, 'key2': False}    |\n",
    "| int       | Número Entero   | Precisión fija, convertido en long en caso de overflow. | 42                              |\n",
    "| long      | Número entero   | Precisión arbitraria                                    | 42L ó456966786151987643L        |\n",
    "| float     | Número decimal  | Coma flotante de doble precisión                        | 3.1415927                       |\n",
    "| complex   | Número complejo | Parte real y parte imaginaria j.                        | (4.5 + 3j)                      |\n",
    "| Bool      | Booleano        | Valor booleano verdadero o falso                        | True o False                    |\n",
    "\n",
    "*Mutable: si su contenido (o dicho valor) puede cambiarse en tiempo de ejecución.\n",
    "\n",
    "*Inmutable: si su contenido (o dicho valor) no puede cambiarse en tiempo de ejecución."
   ]
  },
  {
   "cell_type": "code",
   "execution_count": null,
   "metadata": {
    "collapsed": false
   },
   "outputs": [],
   "source": [
    "'''Bien, acá vamos a lograr nuestro primer \"hola mundo\" definiendo las variables'''\n",
    "variable = \"Hola Mundo\"\n",
    "print (variable)\n",
    "'''Luego utiliza Shit+Enter para ejecutar la linea'''"
   ]
  },
  {
   "cell_type": "code",
   "execution_count": null,
   "metadata": {
    "collapsed": true
   },
   "outputs": [],
   "source": []
  },
  {
   "cell_type": "markdown",
   "metadata": {},
   "source": [
    "En todo lenguaje de programación es necesario comentar el código, sin que estas lineas se ejecuten, como lo acaba de notar, acabamos de utilizar la triple comilla dentro del código y este no se ejecuto, ''' Recuerde, acá puede ingresar cualquier código y este no se ejecutara '''"
   ]
  },
  {
   "cell_type": "markdown",
   "metadata": {},
   "source": [
    "## Ejercicio\n",
    "\n",
    "Cree dos variables, una que contenga 'Hola' y otra que contenga 'Mundo', luego proceda a imprimirlas juntas\n"
   ]
  },
  {
   "cell_type": "markdown",
   "metadata": {},
   "source": [
    "tips: Recuerde que ademas de sumar datos, puede sumar palabras, y que podemos dejar espacios entre los String"
   ]
  },
  {
   "cell_type": "code",
   "execution_count": null,
   "metadata": {
    "collapsed": true
   },
   "outputs": [],
   "source": [
    "\n",
    "\n",
    "\n"
   ]
  },
  {
   "cell_type": "markdown",
   "metadata": {},
   "source": [
    "Tips: Las variables se pueden concatenar dentro de un print utilizando la el símbolo de suma (+), si necesitas colocar espacios dentro de un print bien puedes colocarlo entre comillas de esta forma \" \", en python se pueden sumar variables, siempre que compartan el mismo tipo de dato, o incluso multiplicar variables diferentes"
   ]
  },
  {
   "cell_type": "code",
   "execution_count": null,
   "metadata": {
    "collapsed": false
   },
   "outputs": [],
   "source": [
    "variable1 = 'Hola'\n",
    "variable2 = 'Mundo'\n",
    "print (variable1+\" \"+variable2)\n",
    "print (variable1,variable2)"
   ]
  },
  {
   "cell_type": "markdown",
   "metadata": {},
   "source": [
    "Otro ejercicio curioso con los datos de tipo String, es que tambien podemos multiplicarlos con los datos de tiempo Entero"
   ]
  },
  {
   "cell_type": "markdown",
   "metadata": {},
   "source": [
    "Intentalo ahora: "
   ]
  },
  {
   "cell_type": "code",
   "execution_count": null,
   "metadata": {
    "collapsed": false
   },
   "outputs": [],
   "source": []
  },
  {
   "cell_type": "markdown",
   "metadata": {},
   "source": [
    "Intente dividir una palabra en un número y observe lo que ocurre"
   ]
  },
  {
   "cell_type": "code",
   "execution_count": null,
   "metadata": {
    "collapsed": false
   },
   "outputs": [],
   "source": []
  },
  {
   "cell_type": "markdown",
   "metadata": {},
   "source": [
    "\n"
   ]
  },
  {
   "cell_type": "markdown",
   "metadata": {},
   "source": [
    "##### Cadenas o String"
   ]
  },
  {
   "cell_type": "code",
   "execution_count": null,
   "metadata": {
    "collapsed": false
   },
   "outputs": [],
   "source": [
    "'El conflicto ha \"terminado\", ¿o eso parece?'"
   ]
  },
  {
   "cell_type": "markdown",
   "metadata": {},
   "source": [
    "El formato unicode, permite crear cadenas que puedan ser llevadas a los otros formatos"
   ]
  },
  {
   "cell_type": "code",
   "execution_count": null,
   "metadata": {
    "collapsed": false
   },
   "outputs": [],
   "source": [
    "u'Hola Mundo!'"
   ]
  },
  {
   "cell_type": "markdown",
   "metadata": {},
   "source": [
    "##### Listas"
   ]
  },
  {
   "cell_type": "code",
   "execution_count": null,
   "metadata": {
    "collapsed": false
   },
   "outputs": [],
   "source": [
    "vectorLista = [2,3,4,5]\n",
    "vectorLista"
   ]
  },
  {
   "cell_type": "code",
   "execution_count": null,
   "metadata": {
    "collapsed": false
   },
   "outputs": [],
   "source": [
    "Matriz = [[1,2,3],[4,5,6],[7,8,9]]\n",
    "Matriz"
   ]
  },
  {
   "cell_type": "markdown",
   "metadata": {},
   "source": [
    "#### Más sobre listas\n",
    "\n",
    "El tipo de dato lista tiene algunos métodos más. Aquí están todos los métodos de los objetos lista:\n",
    "\n",
    "list.append(x)\n",
    "\n",
    "Agrega un ítem al final de la lista. Equivale a a[len(a):] = [x].\n",
    "\n",
    "\n",
    "list.extend(L)\n",
    "\n",
    "Extiende la lista agregándole todos los ítems de la lista dada. Equivale a a[len(a):] = L.\n",
    "\n",
    "\n",
    "list.insert(i, x)\n",
    "\n",
    "Inserta un ítem en una posición dada. El primer argumento es el índice del ítem delante del cual se insertará, por lo tanto a.insert(0, x) inserta al principio de la lista, y a.insert(len(a), x) equivale a a.append(x).\n",
    "\n",
    "\n",
    "list.remove(x)\n",
    "\n",
    "Quita el primer ítem de la lista cuyo valor sea x. Es un error si no existe tal ítem.\n",
    "\n",
    "\n",
    "list.pop([i])\n",
    "\n",
    "Quita el ítem en la posición dada de la lista, y lo devuelve. Si no se especifica un índice, a.pop() quita y devuelve el último ítem de la lista. (Los corchetes que encierran a i en la firma del método denotan que el parámetro es opcional, no que deberías escribir corchetes en esa posición. Verás esta notación con frecuencia en la Referencia de la Biblioteca de Python.)\n",
    "\n",
    "\n",
    "list.clear()\n",
    "\n",
    "Quita todos los elementos de la lista. Equivalente a del a[:].\n",
    "\n",
    "\n",
    "list.index(x)\n",
    "\n",
    "Devuelve el índice en la lista del primer ítem cuyo valor sea x. Es un error si no existe tal ítem.\n",
    "\n",
    "\n",
    "list.count(x)\n",
    "\n",
    "Devuelve el número de veces que x aparece en la lista.\n",
    "\n",
    "\n",
    "list.sort(key=None, reverse=False)\n",
    "\n",
    "Ordena los ítems de la lista in situ (los argumentos pueden ser usados para personalizar el orden de la lista, ve sorted() para su explicación).\n",
    "\n",
    "\n",
    "list.reverse()\n",
    "\n",
    "Invierte los elementos de la lista in situ.\n",
    "\n",
    "\n",
    "list.copy()\n",
    "\n",
    "Devuelve una copia superficial de la lista. Equivalente a a[:]."
   ]
  },
  {
   "cell_type": "code",
   "execution_count": null,
   "metadata": {
    "collapsed": false
   },
   "outputs": [],
   "source": [
    "#Puede practicar con la lista \n",
    "vectorLista"
   ]
  },
  {
   "cell_type": "markdown",
   "metadata": {},
   "source": [
    "##### Tuplas\n",
    "\n",
    "Aunque sean similares a las Listas(vectores) la diferencia es que las tuplas son inmutables, no se pueden alterar y se utiliza () para crearlas\n"
   ]
  },
  {
   "cell_type": "code",
   "execution_count": null,
   "metadata": {
    "collapsed": false
   },
   "outputs": [],
   "source": [
    "tupla=(25, \"Mayo\", 1810)\n",
    "tupla"
   ]
  },
  {
   "cell_type": "markdown",
   "metadata": {},
   "source": [
    "##### Set es un conjunto de datos no ordenados que no se repiten y son mutables"
   ]
  },
  {
   "cell_type": "code",
   "execution_count": null,
   "metadata": {
    "collapsed": true
   },
   "outputs": [],
   "source": [
    "conjunto = set(['a', 'b', 'c', 'c', 'b', 'a'])"
   ]
  },
  {
   "cell_type": "markdown",
   "metadata": {},
   "source": [
    "¿Qué cree que va a pasar si lo ejecutamos?"
   ]
  },
  {
   "cell_type": "code",
   "execution_count": null,
   "metadata": {
    "collapsed": false
   },
   "outputs": [],
   "source": [
    "conjunto"
   ]
  },
  {
   "cell_type": "markdown",
   "metadata": {},
   "source": [
    "##### frozenset  es un conjunto de datos no ordenados que no se repiten y son inmutables"
   ]
  },
  {
   "cell_type": "code",
   "execution_count": null,
   "metadata": {
    "collapsed": true
   },
   "outputs": [],
   "source": [
    "conjuntoDos = frozenset(['a', 'b', 'c', 'c', 'b', 'a'])"
   ]
  },
  {
   "cell_type": "markdown",
   "metadata": {},
   "source": [
    "#### Diccionarios o dict, es una colección de datos con un indice\n",
    "\n",
    "Ejemplo:"
   ]
  },
  {
   "cell_type": "code",
   "execution_count": null,
   "metadata": {
    "collapsed": false
   },
   "outputs": [],
   "source": [
    "punto = {'x': 2, 'y': 1, 'z': 4}\n",
    "punto"
   ]
  },
  {
   "cell_type": "markdown",
   "metadata": {},
   "source": [
    "#### Enteros, Flotantes, Complejos y Booleanos"
   ]
  },
  {
   "cell_type": "code",
   "execution_count": null,
   "metadata": {
    "collapsed": true
   },
   "outputs": [],
   "source": [
    "#los int son simples números enteros\n",
    "\n",
    "numeroEntero = 5"
   ]
  },
  {
   "cell_type": "code",
   "execution_count": null,
   "metadata": {
    "collapsed": true
   },
   "outputs": [],
   "source": [
    "#los flotantes son simples números decimales\n",
    "\n",
    "numeroFlotante = 5.0"
   ]
  },
  {
   "cell_type": "markdown",
   "metadata": {},
   "source": [
    "complex(real, imag)."
   ]
  },
  {
   "cell_type": "code",
   "execution_count": null,
   "metadata": {
    "collapsed": false
   },
   "outputs": [],
   "source": [
    "a=1.5+0.5j\n",
    "print(a.real)\n",
    "print(a.imag)"
   ]
  },
  {
   "cell_type": "markdown",
   "metadata": {},
   "source": [
    "Booleanos"
   ]
  },
  {
   "cell_type": "code",
   "execution_count": null,
   "metadata": {
    "collapsed": false
   },
   "outputs": [],
   "source": [
    "#Verdaderos o falsos\n",
    "\n",
    "5 > 3"
   ]
  },
  {
   "cell_type": "code",
   "execution_count": null,
   "metadata": {
    "collapsed": false
   },
   "outputs": [],
   "source": [
    "3 > 5"
   ]
  },
  {
   "cell_type": "code",
   "execution_count": null,
   "metadata": {
    "collapsed": false
   },
   "outputs": [],
   "source": [
    "#¿Qué cree que va a pasar?\n",
    "\n",
    "8 == 8.0"
   ]
  },
  {
   "cell_type": "markdown",
   "metadata": {},
   "source": [
    "### Modificar tipos de datos"
   ]
  },
  {
   "cell_type": "code",
   "execution_count": null,
   "metadata": {
    "collapsed": true
   },
   "outputs": [],
   "source": [
    "numeroModificar = 8"
   ]
  },
  {
   "cell_type": "code",
   "execution_count": null,
   "metadata": {
    "collapsed": false
   },
   "outputs": [],
   "source": [
    "numeroModificar"
   ]
  },
  {
   "cell_type": "code",
   "execution_count": null,
   "metadata": {
    "collapsed": false
   },
   "outputs": [],
   "source": [
    "float(numeroModificar)"
   ]
  },
  {
   "cell_type": "code",
   "execution_count": null,
   "metadata": {
    "collapsed": false
   },
   "outputs": [],
   "source": [
    "int(numeroModificar)"
   ]
  },
  {
   "cell_type": "code",
   "execution_count": null,
   "metadata": {
    "collapsed": false
   },
   "outputs": [],
   "source": [
    "str(numeroModificar)"
   ]
  },
  {
   "cell_type": "markdown",
   "metadata": {},
   "source": [
    "#### Definido los tipos de datos, Empecemos"
   ]
  },
  {
   "cell_type": "code",
   "execution_count": null,
   "metadata": {
    "collapsed": true
   },
   "outputs": [],
   "source": [
    "x=12"
   ]
  },
  {
   "cell_type": "code",
   "execution_count": null,
   "metadata": {
    "collapsed": false
   },
   "outputs": [],
   "source": [
    "x+5"
   ]
  },
  {
   "cell_type": "code",
   "execution_count": null,
   "metadata": {
    "collapsed": true
   },
   "outputs": [],
   "source": [
    "entero=7"
   ]
  },
  {
   "cell_type": "code",
   "execution_count": null,
   "metadata": {
    "collapsed": true
   },
   "outputs": [],
   "source": [
    "flotante=7.0"
   ]
  },
  {
   "cell_type": "code",
   "execution_count": null,
   "metadata": {
    "collapsed": false
   },
   "outputs": [],
   "source": [
    "entero+3"
   ]
  },
  {
   "cell_type": "code",
   "execution_count": null,
   "metadata": {
    "collapsed": false
   },
   "outputs": [],
   "source": [
    "flotante+3"
   ]
  },
  {
   "cell_type": "code",
   "execution_count": null,
   "metadata": {
    "collapsed": true
   },
   "outputs": [],
   "source": [
    "string=\"Hola\""
   ]
  },
  {
   "cell_type": "code",
   "execution_count": null,
   "metadata": {
    "collapsed": true
   },
   "outputs": [],
   "source": [
    "string='Hola'"
   ]
  },
  {
   "cell_type": "code",
   "execution_count": null,
   "metadata": {
    "collapsed": true
   },
   "outputs": [],
   "source": [
    "flotante2=float(3) #Este es mi primer comentario"
   ]
  },
  {
   "cell_type": "code",
   "execution_count": null,
   "metadata": {
    "collapsed": false
   },
   "outputs": [],
   "source": [
    "'''\n",
    "flotante2\n",
    "flotante2\n",
    "flotante2\n",
    "flotante2flotante2flotante2\n",
    "flotante2flotante2\n",
    "flotante2\n",
    "'''"
   ]
  },
  {
   "cell_type": "code",
   "execution_count": null,
   "metadata": {
    "collapsed": true
   },
   "outputs": [],
   "source": [
    "string=\"Hola rata\""
   ]
  },
  {
   "cell_type": "code",
   "execution_count": null,
   "metadata": {
    "collapsed": true
   },
   "outputs": [],
   "source": [
    "uno=1\n",
    "dos=2\n",
    "tres=uno+dos"
   ]
  },
  {
   "cell_type": "code",
   "execution_count": null,
   "metadata": {
    "collapsed": false
   },
   "outputs": [],
   "source": [
    "tres"
   ]
  },
  {
   "cell_type": "code",
   "execution_count": null,
   "metadata": {
    "collapsed": true
   },
   "outputs": [],
   "source": [
    "hola=\"Hola\"\n",
    "mundo=\"Mundo\""
   ]
  },
  {
   "cell_type": "code",
   "execution_count": null,
   "metadata": {
    "collapsed": false
   },
   "outputs": [],
   "source": [
    "hola+\" \"+mundo"
   ]
  },
  {
   "cell_type": "code",
   "execution_count": null,
   "metadata": {
    "collapsed": true
   },
   "outputs": [],
   "source": [
    "a,b = 2,3"
   ]
  },
  {
   "cell_type": "code",
   "execution_count": null,
   "metadata": {
    "collapsed": false
   },
   "outputs": [],
   "source": [
    "a"
   ]
  },
  {
   "cell_type": "code",
   "execution_count": null,
   "metadata": {
    "collapsed": false
   },
   "outputs": [],
   "source": [
    "b"
   ]
  },
  {
   "cell_type": "code",
   "execution_count": null,
   "metadata": {
    "collapsed": false
   },
   "outputs": [],
   "source": [
    "#Sacar residuos\n",
    "8%2"
   ]
  },
  {
   "cell_type": "code",
   "execution_count": null,
   "metadata": {
    "collapsed": false
   },
   "outputs": [],
   "source": [
    "12%5"
   ]
  },
  {
   "cell_type": "markdown",
   "metadata": {},
   "source": [
    "##### Potencias y raices, sin librerias"
   ]
  },
  {
   "cell_type": "code",
   "execution_count": null,
   "metadata": {
    "collapsed": true
   },
   "outputs": [],
   "source": [
    "a**b"
   ]
  },
  {
   "cell_type": "code",
   "execution_count": null,
   "metadata": {
    "collapsed": false
   },
   "outputs": [],
   "source": [
    "c = a**b"
   ]
  },
  {
   "cell_type": "code",
   "execution_count": null,
   "metadata": {
    "collapsed": false
   },
   "outputs": [],
   "source": [
    "print (c)"
   ]
  },
  {
   "cell_type": "markdown",
   "metadata": {},
   "source": [
    "Existe otras lineas de codigo para lograrlo"
   ]
  },
  {
   "cell_type": "code",
   "execution_count": null,
   "metadata": {
    "collapsed": true
   },
   "outputs": [],
   "source": [
    "d = pow(a,b)"
   ]
  },
  {
   "cell_type": "code",
   "execution_count": null,
   "metadata": {
    "collapsed": false
   },
   "outputs": [],
   "source": [
    "print (d)"
   ]
  },
  {
   "cell_type": "markdown",
   "metadata": {},
   "source": [
    "##### Sacaremos una raiz cubica, de forma sencilla."
   ]
  },
  {
   "cell_type": "code",
   "execution_count": null,
   "metadata": {
    "collapsed": false
   },
   "outputs": [],
   "source": [
    "c = 8**(1/b)"
   ]
  },
  {
   "cell_type": "code",
   "execution_count": null,
   "metadata": {
    "collapsed": false
   },
   "outputs": [],
   "source": [
    "print (c)"
   ]
  },
  {
   "cell_type": "code",
   "execution_count": null,
   "metadata": {
    "collapsed": false
   },
   "outputs": [],
   "source": [
    "25**(1/2)"
   ]
  },
  {
   "cell_type": "markdown",
   "metadata": {},
   "source": [
    "Tambien podemos traer la libreria math, para calcular la raíz cuadrada"
   ]
  },
  {
   "cell_type": "code",
   "execution_count": null,
   "metadata": {
    "collapsed": false
   },
   "outputs": [],
   "source": [
    "import math\n",
    "raiz = math.sqrt(4)"
   ]
  },
  {
   "cell_type": "code",
   "execution_count": null,
   "metadata": {
    "collapsed": false
   },
   "outputs": [],
   "source": [
    "raiz"
   ]
  },
  {
   "cell_type": "code",
   "execution_count": null,
   "metadata": {
    "collapsed": false
   },
   "outputs": [],
   "source": [
    "# raiz cuadrada\n",
    "math.sqrt(9)"
   ]
  },
  {
   "cell_type": "code",
   "execution_count": null,
   "metadata": {
    "collapsed": false
   },
   "outputs": [],
   "source": [
    "#Si quieres saber que hace una libreria puedes utilizar el comando\n",
    "\n",
    "help(math)"
   ]
  },
  {
   "cell_type": "code",
   "execution_count": null,
   "metadata": {
    "collapsed": false
   },
   "outputs": [],
   "source": [
    "# por ejemplo podemos invocar Pi o E\n",
    "import math\n",
    "\n",
    "grados = 30\n",
    "variable = grados*math.pi/180\n",
    "math.sin(variable)"
   ]
  },
  {
   "cell_type": "code",
   "execution_count": null,
   "metadata": {
    "collapsed": false
   },
   "outputs": [],
   "source": [
    "grados = 180\n",
    "variable = grados*math.pi/180\n",
    "math.cos(variable)"
   ]
  },
  {
   "cell_type": "code",
   "execution_count": null,
   "metadata": {
    "collapsed": false
   },
   "outputs": [],
   "source": [
    "math.factorial(4)"
   ]
  },
  {
   "cell_type": "markdown",
   "metadata": {},
   "source": [
    "Diferentes librerias pueden hacer diferentes efectos, segun las necesidades"
   ]
  },
  {
   "cell_type": "code",
   "execution_count": null,
   "metadata": {
    "collapsed": true
   },
   "outputs": [],
   "source": [
    "import matplotlib.pyplot as plt #Graficas\n",
    "import numpy as np #Matematicas\n",
    "\n",
    "x = np.linspace(0, 10, 100)\n",
    "y = np.sin(x)\n",
    "plt.figure(figsize=(6,5))\n",
    "plt.plot(x, y)\n",
    "plt.show()"
   ]
  },
  {
   "cell_type": "code",
   "execution_count": null,
   "metadata": {
    "collapsed": false
   },
   "outputs": [],
   "source": [
    "x = np.arange(40.0)\n",
    "y = x**5\n",
    "\n",
    "fig,axes = subplots(1, 3) # dos filas, tres columnas\n",
    "axes[0].plot(x, y)\n",
    "axes[1].plot(-x, y)\n",
    "axes[2].plot(-x, 2*y)"
   ]
  },
  {
   "cell_type": "markdown",
   "metadata": {},
   "source": [
    "## Vamos a Trabajar Listas/Vectores"
   ]
  },
  {
   "cell_type": "code",
   "execution_count": 4,
   "metadata": {
    "collapsed": true
   },
   "outputs": [],
   "source": [
    "#Podemos crear una lista vacia\n",
    "\n",
    "\n",
    "lista=[]"
   ]
  },
  {
   "cell_type": "code",
   "execution_count": 5,
   "metadata": {
    "collapsed": true
   },
   "outputs": [],
   "source": [
    "#Agregamos un número a la lista\n",
    "lista.append(3)"
   ]
  },
  {
   "cell_type": "code",
   "execution_count": 6,
   "metadata": {
    "collapsed": true
   },
   "outputs": [],
   "source": [
    "#vamos a agregar una variable\n",
    "paraLista = 5\n",
    "lista.append(paraLista)"
   ]
  },
  {
   "cell_type": "code",
   "execution_count": 7,
   "metadata": {
    "collapsed": false
   },
   "outputs": [
    {
     "data": {
      "text/plain": [
       "[3, 5]"
      ]
     },
     "execution_count": 7,
     "metadata": {},
     "output_type": "execute_result"
    }
   ],
   "source": [
    "lista"
   ]
  },
  {
   "cell_type": "markdown",
   "metadata": {},
   "source": [
    "#### Agregar una variable de control"
   ]
  },
  {
   "cell_type": "code",
   "execution_count": 8,
   "metadata": {
    "collapsed": false
   },
   "outputs": [
    {
     "name": "stdout",
     "output_type": "stream",
     "text": [
      "ingrese el nuevo número que quiere agregar1\n",
      "[3, 5, '1']\n"
     ]
    }
   ],
   "source": [
    "#¿Nota algo extraño en el dato que acaba de ingresar?\n",
    "paraListaDos = input(\"ingrese el nuevo número que quiere agregar\")\n",
    "lista.append(paraListaDos)\n",
    "print (lista)\n"
   ]
  },
  {
   "cell_type": "code",
   "execution_count": 1,
   "metadata": {
    "collapsed": false
   },
   "outputs": [
    {
     "name": "stdout",
     "output_type": "stream",
     "text": [
      "ingrese el nuevo número que quiere agregar3\n"
     ]
    },
    {
     "ename": "NameError",
     "evalue": "name 'lista' is not defined",
     "output_type": "error",
     "traceback": [
      "\u001b[0;31m---------------------------------------------------------------------------\u001b[0m",
      "\u001b[0;31mNameError\u001b[0m                                 Traceback (most recent call last)",
      "\u001b[0;32m<ipython-input-1-62021d7f2774>\u001b[0m in \u001b[0;36m<module>\u001b[0;34m()\u001b[0m\n\u001b[1;32m      1\u001b[0m \u001b[1;31m#Para garantizar que sea el tipo de dato que necesita, esta es la sintaxis\u001b[0m\u001b[1;33m\u001b[0m\u001b[1;33m\u001b[0m\u001b[0m\n\u001b[1;32m      2\u001b[0m \u001b[0mparaListaDos\u001b[0m \u001b[1;33m=\u001b[0m \u001b[0mint\u001b[0m\u001b[1;33m(\u001b[0m\u001b[0minput\u001b[0m\u001b[1;33m(\u001b[0m\u001b[1;34m\"ingrese el nuevo número que quiere agregar\"\u001b[0m\u001b[1;33m)\u001b[0m\u001b[1;33m)\u001b[0m\u001b[1;33m\u001b[0m\u001b[0m\n\u001b[0;32m----> 3\u001b[0;31m \u001b[0mlista\u001b[0m\u001b[1;33m.\u001b[0m\u001b[0mappend\u001b[0m\u001b[1;33m(\u001b[0m\u001b[0mparaListaDos\u001b[0m\u001b[1;33m)\u001b[0m\u001b[1;33m\u001b[0m\u001b[0m\n\u001b[0m\u001b[1;32m      4\u001b[0m \u001b[0mprint\u001b[0m \u001b[1;33m(\u001b[0m\u001b[0mlista\u001b[0m\u001b[1;33m)\u001b[0m\u001b[1;33m\u001b[0m\u001b[0m\n",
      "\u001b[0;31mNameError\u001b[0m: name 'lista' is not defined"
     ]
    }
   ],
   "source": [
    "#Para garantizar que sea el tipo de dato que necesita, esta es la sintaxis\n",
    "paraListaDos = int(input(\"ingrese el nuevo número que quiere agregar\"))\n",
    "lista.append(paraListaDos)\n",
    "print (lista)"
   ]
  },
  {
   "cell_type": "code",
   "execution_count": 12,
   "metadata": {
    "collapsed": true
   },
   "outputs": [],
   "source": [
    "#Reaccionemos el vector para que todos sean INT\n",
    "lista = [1,2,3,4]"
   ]
  },
  {
   "cell_type": "code",
   "execution_count": 13,
   "metadata": {
    "collapsed": true
   },
   "outputs": [],
   "source": [
    "#Puedes agregar una lista dentro de una lista\n",
    "lista.append(lista)"
   ]
  },
  {
   "cell_type": "code",
   "execution_count": 14,
   "metadata": {
    "collapsed": false
   },
   "outputs": [
    {
     "data": {
      "text/plain": [
       "[1, 2, 3, 4, [...]]"
      ]
     },
     "execution_count": 14,
     "metadata": {},
     "output_type": "execute_result"
    }
   ],
   "source": [
    "lista"
   ]
  },
  {
   "cell_type": "code",
   "execution_count": null,
   "metadata": {
    "collapsed": false
   },
   "outputs": [],
   "source": [
    "#Calculemos cuantos elementos tiene una lista\n",
    "len(lista)"
   ]
  },
  {
   "cell_type": "code",
   "execution_count": null,
   "metadata": {
    "collapsed": false
   },
   "outputs": [],
   "source": [
    "#Cómo quitar el último elemento de una lista\n",
    "lista.remove(lista)\n",
    "lista"
   ]
  },
  {
   "cell_type": "code",
   "execution_count": null,
   "metadata": {
    "collapsed": false
   },
   "outputs": [],
   "source": [
    "#Queremos imprimir un valor de la lista, es importante recordar que en las listas, la primer posición es (0) \n",
    "print (lista[2])"
   ]
  },
  {
   "cell_type": "code",
   "execution_count": null,
   "metadata": {
    "collapsed": true
   },
   "outputs": [],
   "source": [
    "#Si queremos eliminar un valor especifico de la lista.\n",
    "lista.remove(2)"
   ]
  },
  {
   "cell_type": "code",
   "execution_count": null,
   "metadata": {
    "collapsed": false
   },
   "outputs": [],
   "source": [
    "lista"
   ]
  },
  {
   "cell_type": "code",
   "execution_count": null,
   "metadata": {
    "collapsed": true
   },
   "outputs": [],
   "source": [
    "#Si queremos remover un elemento en un lugar de la lista\n",
    "lista.remove(lista[2])"
   ]
  },
  {
   "cell_type": "code",
   "execution_count": null,
   "metadata": {
    "collapsed": false
   },
   "outputs": [],
   "source": [
    "lista"
   ]
  },
  {
   "cell_type": "code",
   "execution_count": null,
   "metadata": {
    "collapsed": false
   },
   "outputs": [],
   "source": [
    "lista.append(1)"
   ]
  },
  {
   "cell_type": "code",
   "execution_count": null,
   "metadata": {
    "collapsed": false
   },
   "outputs": [],
   "source": [
    "lista"
   ]
  },
  {
   "cell_type": "code",
   "execution_count": null,
   "metadata": {
    "collapsed": false
   },
   "outputs": [],
   "source": [
    "#si queremos buscar la posición de un elemento de la lista, podemos utilizar index\n",
    "lista.index(3)"
   ]
  },
  {
   "cell_type": "code",
   "execution_count": null,
   "metadata": {
    "collapsed": false
   },
   "outputs": [],
   "source": [
    "#Si queremos sacar el maximo elemento de una lista o el minimo\n",
    "\n",
    "maximo = max(lista)\n",
    "minimo = min(lista)\n",
    "print(maximo)\n",
    "print(minimo)"
   ]
  },
  {
   "cell_type": "code",
   "execution_count": 1,
   "metadata": {
    "collapsed": false
   },
   "outputs": [
    {
     "data": {
      "text/plain": [
       "[1, 2, 3, 4, 5]"
      ]
     },
     "execution_count": 1,
     "metadata": {},
     "output_type": "execute_result"
    }
   ],
   "source": [
    "#Ordenar la lista\n",
    "sorted([5, 2, 3, 1, 4])"
   ]
  },
  {
   "cell_type": "code",
   "execution_count": 2,
   "metadata": {
    "collapsed": false
   },
   "outputs": [
    {
     "ename": "NameError",
     "evalue": "name 'lista' is not defined",
     "output_type": "error",
     "traceback": [
      "\u001b[0;31m---------------------------------------------------------------------------\u001b[0m",
      "\u001b[0;31mNameError\u001b[0m                                 Traceback (most recent call last)",
      "\u001b[0;32m<ipython-input-2-89ec3c3265e0>\u001b[0m in \u001b[0;36m<module>\u001b[0;34m()\u001b[0m\n\u001b[0;32m----> 1\u001b[0;31m \u001b[0msorted\u001b[0m\u001b[1;33m(\u001b[0m\u001b[0mlista\u001b[0m\u001b[1;33m)\u001b[0m\u001b[1;33m\u001b[0m\u001b[0m\n\u001b[0m",
      "\u001b[0;31mNameError\u001b[0m: name 'lista' is not defined"
     ]
    }
   ],
   "source": [
    "sorted(lista)"
   ]
  },
  {
   "cell_type": "markdown",
   "metadata": {},
   "source": [
    "#### Trabajo con diccionarios"
   ]
  },
  {
   "cell_type": "code",
   "execution_count": null,
   "metadata": {
    "collapsed": false
   },
   "outputs": [],
   "source": [
    "materias = {}\n",
    "materias[\"lunes\"] = [6103, 7540]\n",
    "materias[\"martes\"] = [6201]\n",
    "materias[\"miércoles\"] = [6103, 7540]\n",
    "materias[\"jueves\"] = []\n",
    "materias[\"viernes\"] = [6201]\n",
    "print (materias[\"lunes\"])\n",
    "print (materias[\"viernes\"])"
   ]
  },
  {
   "cell_type": "markdown",
   "metadata": {},
   "source": [
    "# Condiciones en Python\n"
   ]
  },
  {
   "cell_type": "raw",
   "metadata": {},
   "source": [
    "# Símbolo\tSignificado\tEjemplo\tResultado\n",
    "==\tIgual que\t5 == 7\tFalse\n",
    "!=\tDistinto que\trojo != verde\tTrue\n",
    "<\tMenor que\t8 < 12\tTrue\n",
    ">\tMayor que\t12 > 7\tTrue\n",
    "<=\tMenor o igual que\t12 <= 12\tTrue\n",
    ">=\tMayor o igual que\t4 >= 5\tFalse\n",
    "\n",
    "Y para evaluar más de una condición simultáneamente, se utilizan operadores lógicos:\n",
    "\n",
    "Operador\tEjemplo\tExplicación\tResultado\n",
    "and\t5 == 7 and 7 < 12\tFalse and False\tFalse\n",
    "and\t9 < 12 and 12 > 7\tTrue and True\tTrue\n",
    "and\t9 < 12 and 12 > 15\tTrue and False\tFalse\n",
    "or\t12 == 12 or 15 < 7\tTrue or False\tTrue\n",
    "or\t7 > 5 or 9 < 12\tTrue or True\tTrue\n",
    "xor\t4 == 4 xor 9 > 3\tTrue o True\tFalse\n",
    "xor\t4 == 4 xor 9 < 3\tTrue o False\tTrue"
   ]
  },
  {
   "cell_type": "markdown",
   "metadata": {},
   "source": [
    "#### IF, ELSE, ELIF"
   ]
  },
  {
   "cell_type": "code",
   "execution_count": null,
   "metadata": {
    "collapsed": false
   },
   "outputs": [],
   "source": [
    "if (2 >= 1):\n",
    "    print (\"si\")"
   ]
  },
  {
   "cell_type": "code",
   "execution_count": null,
   "metadata": {
    "collapsed": false
   },
   "outputs": [],
   "source": [
    "#Ingrese su edad y pruebe el Else\n",
    "edad = int(input(\"¿Cuántos años tiene? \"))\n",
    "if edad < 18:\n",
    "    print(\"Es usted menor de edad\")\n",
    "else:\n",
    "    print(\"Es usted mayor de edad\")\n",
    "print(\"¡Hasta la próxima!\")"
   ]
  },
  {
   "cell_type": "code",
   "execution_count": null,
   "metadata": {
    "collapsed": false
   },
   "outputs": [],
   "source": [
    "#Vamos a probar si un número es Par o Impar\n",
    "numero = int(input(\"Ingrese el número: \"))\n",
    "if numero % 2:\n",
    "    print(\"Este número es impar\")\n",
    "else:\n",
    "    print(\"Este número es par\")"
   ]
  },
  {
   "cell_type": "code",
   "execution_count": null,
   "metadata": {
    "collapsed": false
   },
   "outputs": [],
   "source": [
    "#Acá vemos como se deben cumplir las 2 condiciones, puedes anidar más condiciones.\n",
    "num1 = int(input(\"Ingrese el número: \"))\n",
    "num2 = int(input(\"Ingrese el número: \"))\n",
    "if num1 == 4 and num2 == 5: # and si las 2 condiciones se cumplen\n",
    "    print(\"Los dos números son iguales\")\n",
    "else:\n",
    "    print(\"Los números no son iguales\")"
   ]
  },
  {
   "cell_type": "code",
   "execution_count": null,
   "metadata": {
    "collapsed": false
   },
   "outputs": [],
   "source": [
    "num1 = int(input(\"Ingrese el número: \"))\n",
    "num2 = int(input(\"Ingrese el número: \"))\n",
    "if num1 == 4 or num2 == 5: # or si una de las condiciones es cierta, todas son ciertas\n",
    "    print(\"Uno de los números es igual\")\n",
    "else:\n",
    "    print(\"Ningun número es igual\")"
   ]
  },
  {
   "cell_type": "markdown",
   "metadata": {},
   "source": [
    "IF, ELSE y valores Boobleanos"
   ]
  },
  {
   "cell_type": "code",
   "execution_count": null,
   "metadata": {
    "collapsed": false
   },
   "outputs": [],
   "source": [
    "verde = True\n",
    "if verde:\n",
    "    print (\"Puedes pasar!\")\n",
    "    "
   ]
  },
  {
   "cell_type": "code",
   "execution_count": null,
   "metadata": {
    "collapsed": false
   },
   "outputs": [],
   "source": [
    "verde = False\n",
    "if verde:\n",
    "    print (\"Puedes pasar!\")\n",
    "else:\n",
    "    print (\"Espera\")"
   ]
  },
  {
   "cell_type": "code",
   "execution_count": null,
   "metadata": {
    "collapsed": false
   },
   "outputs": [],
   "source": [
    "semaforoVerde = False\n",
    "semaforoNaranja = False\n",
    "\n",
    "if semaforoVerde:\n",
    "    print(\"Puedes pasar\")\n",
    "else:\n",
    "    if semaforoNaranja:\n",
    "        print (\"Pase con precaución\")\n",
    "    else:\n",
    "        print (\"Debes esperar\") "
   ]
  },
  {
   "cell_type": "markdown",
   "metadata": {},
   "source": [
    "#### Elif reprenseta lo que en otros lenguajes de programación se conoce como el Switch"
   ]
  },
  {
   "cell_type": "code",
   "execution_count": null,
   "metadata": {
    "collapsed": false
   },
   "outputs": [],
   "source": [
    "var = int(input(\"Ingrese un número de 1 a 3\"))\n",
    "\n",
    "if var == 1:\n",
    "   print (\"1 - Fue su número\")\n",
    "   print (var)\n",
    "elif var == 2:\n",
    "   print (\"2 - Fue su número\")\n",
    "   print (var)\n",
    "elif var == 3:\n",
    "   print (\"3 - Fue su número\")\n",
    "   print (var)\n",
    "else:\n",
    "   print (\"Escogio un número diferente\")\n",
    "   print (var)\n",
    "\n",
    "print (\"Adios\")"
   ]
  },
  {
   "cell_type": "markdown",
   "metadata": {},
   "source": [
    "# Trabajando con loops o Ciclos en Python"
   ]
  },
  {
   "cell_type": "markdown",
   "metadata": {},
   "source": [
    "#### Ciclo WHILE"
   ]
  },
  {
   "cell_type": "code",
   "execution_count": null,
   "metadata": {
    "collapsed": false
   },
   "outputs": [],
   "source": [
    "suma = 0 #Declaramos una variable suma\n",
    "numero = 1 #Declaramos un número de inicio del ciclo\n",
    "while numero <= 10: #La suma se ejecutara los primeros 10números\n",
    "    suma = numero + suma #Hacemos la suma y la guardamos\n",
    "    numero = numero + 1 #Aumentamos el contador para evitar que el bucle sea infinito\n",
    "print (\"La suma es \" + str(suma)) #Imprimimos y cambiamos la suma a String"
   ]
  },
  {
   "cell_type": "code",
   "execution_count": null,
   "metadata": {
    "collapsed": false
   },
   "outputs": [],
   "source": [
    "#Qué cree que va a pasar?\n",
    "\n",
    "variable = 10\n",
    "while variable > 0:\n",
    "    print ('Actual valor de variable:', variable)\n",
    "    variable = variable -1\n",
    "    if variable == 5:\n",
    "        break #Esta es otra forma de romper un ciclo, cuando se cumple una condición"
   ]
  },
  {
   "cell_type": "code",
   "execution_count": null,
   "metadata": {
    "collapsed": false
   },
   "outputs": [],
   "source": [
    "#Similar pero con la sentencia (continue)\n",
    "\n",
    "variable = 10\n",
    "while variable > 0:              \n",
    "   variable = variable -1\n",
    "   if variable == 5:\n",
    "      continue #evita que el ciclo se rompa\n",
    "   print ('Actual valor de variable:', variable)"
   ]
  },
  {
   "cell_type": "code",
   "execution_count": null,
   "metadata": {
    "collapsed": false
   },
   "outputs": [],
   "source": [
    "i=0\n",
    "s=\"Problematico\"\n",
    "while not(s[i] in \"aeiouAEIOUáéíóúÁÉÍÓÚ\"):\n",
    "    print(s[i])\n",
    "    i=i+1"
   ]
  },
  {
   "cell_type": "markdown",
   "metadata": {},
   "source": [
    "#### Ciclo FOR, el ciclo for en python va de 1 valor en 1 valor, segun el rango"
   ]
  },
  {
   "cell_type": "code",
   "execution_count": null,
   "metadata": {
    "collapsed": false
   },
   "outputs": [],
   "source": [
    "#Vamos a examinar el bucle for\n",
    "for i in range (10):\n",
    "    print(i)"
   ]
  },
  {
   "cell_type": "code",
   "execution_count": null,
   "metadata": {
    "collapsed": false
   },
   "outputs": [],
   "source": [
    "#Vamos a examinar el bucle for\n",
    "list = [2,3,4,5] #Creamos una lista\n",
    "n=5 #Creamos una variable que definira el tamaño de for\n",
    "for i in range (n): #(i) se inicializa en 0 y va hasta 4\n",
    "    list.append(i) #agrega (i) a la lista o vector\n",
    "    \n",
    "print (list) #imprime la lista o vector"
   ]
  },
  {
   "cell_type": "code",
   "execution_count": null,
   "metadata": {
    "collapsed": false
   },
   "outputs": [],
   "source": [
    "#Qué cree que va a pasar si lo ejecuta?\n",
    "s = \"saludo como estan\"\n",
    "for caracter in  s:\n",
    "    if caracter == \"aeiou\":\n",
    "        break\n",
    "    print(caracter)"
   ]
  },
  {
   "cell_type": "code",
   "execution_count": null,
   "metadata": {
    "collapsed": false
   },
   "outputs": [],
   "source": [
    "for i in range(5):\n",
    "    print(i)"
   ]
  },
  {
   "cell_type": "markdown",
   "metadata": {
    "collapsed": false
   },
   "source": [
    "#### Pass\n",
    "\n",
    "La sentencia pass no hace nada. Se puede usar cuando una sentencia es requerida por la sintáxis pero el programa no\n",
    "requiere ninguna acción. Por ejemplo:"
   ]
  },
  {
   "cell_type": "code",
   "execution_count": null,
   "metadata": {
    "collapsed": true
   },
   "outputs": [],
   "source": [
    "while True:\n",
    "    pass"
   ]
  },
  {
   "cell_type": "markdown",
   "metadata": {
    "collapsed": true
   },
   "source": [
    "¿Para qué se usa? usualmente en clases o funciones que deben ser declaradas, pero que no tienen ninguna ejecucción"
   ]
  }
 ],
 "metadata": {
  "anaconda-cloud": {},
  "kernelspec": {
   "display_name": "Python [default]",
   "language": "python",
   "name": "python3"
  },
  "language_info": {
   "codemirror_mode": {
    "name": "ipython",
    "version": 3
   },
   "file_extension": ".py",
   "mimetype": "text/x-python",
   "name": "python",
   "nbconvert_exporter": "python",
   "pygments_lexer": "ipython3",
   "version": "3.5.2"
  }
 },
 "nbformat": 4,
 "nbformat_minor": 0
}
